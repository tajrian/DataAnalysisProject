{
 "cells": [
  {
   "cell_type": "markdown",
   "metadata": {},
   "source": [
    "# What apps are most liked by users\n",
    "\n",
    "- This goal of this project is to analyze what type of apps attract more users.\n",
    "\n",
    "We will use two datasets.\n",
    "1.[Google play app data](https://www.kaggle.com/lava18/google-play-store-apps) \n",
    "2.[Apple Mobile App Data](https://www.kaggle.com/ramamet4/app-store-apple-data-set-10k-apps)"
   ]
  },
  {
   "cell_type": "code",
   "execution_count": 1,
   "metadata": {
    "collapsed": false
   },
   "outputs": [],
   "source": [
    "from csv import reader\n",
    "\n",
    "def explore_data(dataset,start,end,rows_and_columns=False):\n",
    "    dataset_slice = dataset[start:end]\n",
    "    for row in dataset_slice:\n",
    "        print(row)\n",
    "        print('\\n')\n",
    "        \n",
    "    if rows_and_columns:\n",
    "        print('Number of rows:',len(dataset))\n",
    "        print('Number of columns:', len(dataset[0]))\n",
    "        print('\\n')\n",
    "    \n",
    "        \n",
    "def open_data(file_name):\n",
    "    file = open(file_name,encoding='utf8')\n",
    "    read_file = reader(file)\n",
    "    dataset = list(read_file)\n",
    "    return dataset\n",
    "    \n",
    "ios_file=open_data('AppleStore.csv')\n",
    "google_file=open_data('googleplaystore.csv')"
   ]
  },
  {
   "cell_type": "code",
   "execution_count": 2,
   "metadata": {
    "collapsed": false
   },
   "outputs": [
    {
     "name": "stdout",
     "output_type": "stream",
     "text": [
      "['Coloring book moana', 'ART_AND_DESIGN', '3.9', '967', '14M', '500,000+', 'Free', '0', 'Everyone', 'Art & Design;Pretend Play', 'January 15, 2018', '2.0.0', '4.0.3 and up']\n",
      "\n",
      "\n",
      "Number of rows: 10841\n",
      "Number of columns: 13\n",
      "\n",
      "\n"
     ]
    }
   ],
   "source": [
    "#explore_data(ios_file[1:],1,2,True)\n",
    "explore_data(google_file[1:],1,2,True)"
   ]
  },
  {
   "cell_type": "code",
   "execution_count": 3,
   "metadata": {
    "collapsed": false
   },
   "outputs": [
    {
     "name": "stdout",
     "output_type": "stream",
     "text": [
      "[['App', 'Category', 'Rating', 'Reviews', 'Size', 'Installs', 'Type', 'Price', 'Content Rating', 'Genres', 'Last Updated', 'Current Ver', 'Android Ver'], ['Photo Editor & Candy Camera & Grid & ScrapBook', 'ART_AND_DESIGN', '4.1', '159', '19M', '10,000+', 'Free', '0', 'Everyone', 'Art & Design', 'January 7, 2018', '1.0.0', '4.0.3 and up']]\n"
     ]
    }
   ],
   "source": [
    "print(google_file[0:2])"
   ]
  },
  {
   "cell_type": "code",
   "execution_count": 4,
   "metadata": {
    "collapsed": false
   },
   "outputs": [
    {
     "name": "stdout",
     "output_type": "stream",
     "text": [
      "['Life Made WI-Fi Touchscreen Photo Frame', '1.9', '19', '3.0M', '1,000+', 'Free', '0', 'Everyone', '', 'February 11, 2018', '1.0.19', '4.0 and up']\n",
      "12\n"
     ]
    }
   ],
   "source": [
    "print(google_file[10473])\n",
    "print(len(google_file[10473]))"
   ]
  },
  {
   "cell_type": "code",
   "execution_count": 5,
   "metadata": {
    "collapsed": false
   },
   "outputs": [
    {
     "name": "stdout",
     "output_type": "stream",
     "text": [
      "['osmino Wi-Fi: free WiFi', 'TOOLS', '4.2', '134203', '4.1M', '10,000,000+', 'Free', '0', 'Everyone', 'Tools', 'August 7, 2018', '6.06.14', '4.4 and up']\n",
      "13\n"
     ]
    }
   ],
   "source": [
    "del google_file[10473]\n",
    "print(google_file[10473])\n",
    "print(len(google_file[10473]))\n"
   ]
  },
  {
   "cell_type": "markdown",
   "metadata": {},
   "source": [
    "# found duplicate data from disscussion \n",
    "From the [disscussion](https://www.kaggle.com/lava18/google-play-store-apps/discussion) we can see that there may be duplicate datas. \n",
    "So I am going to make a function which finds out duplicate data entries. "
   ]
  },
  {
   "cell_type": "markdown",
   "metadata": {},
   "source": [
    "1.First I am going to find what kind of data has duplicate entries\n",
    "- i will try to find apps with dupliactes entries"
   ]
  },
  {
   "cell_type": "code",
   "execution_count": 6,
   "metadata": {
    "collapsed": false
   },
   "outputs": [
    {
     "name": "stdout",
     "output_type": "stream",
     "text": [
      "['App', 'Category', 'Rating', 'Reviews', 'Size', 'Installs', 'Type', 'Price', 'Content Rating', 'Genres', 'Last Updated', 'Current Ver', 'Android Ver']\n"
     ]
    }
   ],
   "source": [
    "print(google_file[0])"
   ]
  },
  {
   "cell_type": "code",
   "execution_count": 7,
   "metadata": {
    "collapsed": false
   },
   "outputs": [],
   "source": [
    "def find_duplicates(dataset):\n",
    "    duplicate = []\n",
    "    unique_app = []\n",
    "    for row in dataset[1:]:\n",
    "        if row[0] in unique_app:\n",
    "            duplicate.append(row[0])\n",
    "        else:\n",
    "            unique_app.append(row[0])\n",
    "    \n",
    "    print('Number of duplicate app: ',len(duplicate))\n",
    "    print('Example of duplicate app:', duplicate[:15])\n",
    "    return unique_app,duplicate\n",
    "            "
   ]
  },
  {
   "cell_type": "markdown",
   "metadata": {},
   "source": [
    "Here we will first get all the duplicates app by the `find_duplicates` function\n",
    "the function return alist the name of the app that has duplicate entries.\n",
    "\n",
    "-> `find dupliactes` has two parameters. dataset and header \n",
    "-> if your dataset doesnt have header row, pass `header=False` as parameter. \n",
    "->The default value is `True` as we assume that the dataset has header while being passed as arguement "
   ]
  },
  {
   "cell_type": "code",
   "execution_count": 8,
   "metadata": {
    "collapsed": false
   },
   "outputs": [
    {
     "name": "stdout",
     "output_type": "stream",
     "text": [
      "Number of duplicate app:  1181\n",
      "Example of duplicate app: ['Quick PDF Scanner + OCR FREE', 'Box', 'Google My Business', 'ZOOM Cloud Meetings', 'join.me - Simple Meetings', 'Box', 'Zenefits', 'Google Ads', 'Google My Business', 'Slack', 'FreshBooks Classic', 'Insightly CRM', 'QuickBooks Accounting: Invoicing & Expenses', 'HipChat - Chat Built for Teams', 'Xero Accounting Software']\n"
     ]
    }
   ],
   "source": [
    "android_unique_apps , android_duplicate = find_duplicates(google_file)"
   ]
  },
  {
   "cell_type": "markdown",
   "metadata": {},
   "source": [
    "-> the `find dupliactes` return two values. `unique apps` and apps that have `duplicate values` in the dataset"
   ]
  },
  {
   "cell_type": "markdown",
   "metadata": {
    "collapsed": true
   },
   "source": [
    "# Cleaning out duplicates\n",
    "\n",
    "- listing the unique apps with their maximum ratings\n"
   ]
  },
  {
   "cell_type": "markdown",
   "metadata": {
    "collapsed": false
   },
   "source": [
    "- we can see here that the rating are in 3rd colomn\n",
    "- ['App', 'Category', 'Rating', 'Reviews', 'Size', 'Installs', 'Type', 'Price', 'Content Rating', 'Genres', 'Last Updated', 'Current Ver', 'Android Ver']"
   ]
  },
  {
   "cell_type": "markdown",
   "metadata": {},
   "source": [
    "- We have a list `android_unique_apps` containg the name of unique app . we will use this same technique to extract out the unique apps' maximum rating.\n",
    "\n"
   ]
  },
  {
   "cell_type": "code",
   "execution_count": 9,
   "metadata": {
    "collapsed": false
   },
   "outputs": [],
   "source": [
    "unique_app_max_rating={}\n",
    "for row in google_file[1:]:\n",
    "    name = row[0]\n",
    "    rating = float(row[3])\n",
    "    if name in unique_app_max_rating:\n",
    "        unique_app_max_rating[name]=max(unique_app_max_rating[name],rating)\n",
    "    else:\n",
    "        unique_app_max_rating[name]=rating\n",
    "                                                                        "
   ]
  },
  {
   "cell_type": "markdown",
   "metadata": {},
   "source": [
    "We have seen there is 1181 duplicate entries in the dataset. "
   ]
  },
  {
   "cell_type": "code",
   "execution_count": 10,
   "metadata": {
    "collapsed": false
   },
   "outputs": [
    {
     "name": "stdout",
     "output_type": "stream",
     "text": [
      "10840\n"
     ]
    }
   ],
   "source": [
    "print(len(google_file[1:]))"
   ]
  },
  {
   "cell_type": "markdown",
   "metadata": {},
   "source": [
    "We can see that after deleting the duplicate entries , we have exact `9659` values. "
   ]
  },
  {
   "cell_type": "code",
   "execution_count": 11,
   "metadata": {
    "collapsed": false
   },
   "outputs": [
    {
     "name": "stdout",
     "output_type": "stream",
     "text": [
      "66577446.0\n"
     ]
    }
   ],
   "source": [
    "print(unique_app_max_rating['Instagram'])"
   ]
  },
  {
   "cell_type": "markdown",
   "metadata": {},
   "source": [
    "- `we'd like to analyze only the apps that are directed toward an English-speaking audience. However, if we explore the data long enough, we'll find that both data sets have apps with names that suggest they are not directed toward an English-speaking audience.`\n"
   ]
  },
  {
   "cell_type": "markdown",
   "metadata": {},
   "source": [
    "- At first we counted the unique apps with their max ratings.\n",
    "\n",
    "- Then we looped throug the data and check if the row contains the maximum rating \n",
    "\n",
    "- we will also keep count of the already visited apps so that duplicate entries with max ratings also get eliminated"
   ]
  },
  {
   "cell_type": "code",
   "execution_count": 12,
   "metadata": {
    "collapsed": false
   },
   "outputs": [
    {
     "name": "stdout",
     "output_type": "stream",
     "text": [
      "9659\n"
     ]
    }
   ],
   "source": [
    "android_header = google_file[0]\n",
    "android_clean = []\n",
    "already_added = []\n",
    "for row in google_file[1:]:\n",
    "    name=row[0]\n",
    "    rating=float(row[3])\n",
    "    max_rating=unique_app_max_rating[name]\n",
    "    if (rating==max_rating) and (name not in already_added):\n",
    "        #(row)\n",
    "        android_clean.append(row)\n",
    "        already_added.append(name)\n",
    "        \n",
    "#print('sesh')\n",
    "print(len(android_clean))"
   ]
  },
  {
   "cell_type": "markdown",
   "metadata": {},
   "source": [
    "`android_clean` is the clean data without duplicates."
   ]
  },
  {
   "cell_type": "markdown",
   "metadata": {},
   "source": [
    "# Remiving NON English App\n",
    "\n",
    "We're not interested in keeping these apps, so we'll remove them. One way to go about this is to remove each app with a name containing a symbol that is not commonly used in English text — English text usually includes letters from the English alphabet, numbers composed of digits from 0 to 9, punctuation marks (., !, ?, ;), and other symbols (+, *, /).\n",
    "\n",
    "Behind the scenes, each character we use in a string has a corresponding number associated with it. For instance, the corresponding number for character 'a' is 97, character 'A' is 65, and character '爱' is 29,233. We can get the corresponding number of each character using the ord() built-in function."
   ]
  },
  {
   "cell_type": "code",
   "execution_count": 13,
   "metadata": {
    "collapsed": false
   },
   "outputs": [
    {
     "name": "stdout",
     "output_type": "stream",
     "text": [
      "97\n",
      "122\n",
      "65\n",
      "90\n"
     ]
    }
   ],
   "source": [
    "print(ord('a'))\n",
    "print(ord('z'))\n",
    "print(ord('A'))\n",
    "print(ord('Z'))"
   ]
  },
  {
   "cell_type": "markdown",
   "metadata": {},
   "source": [
    "- part 1\n",
    "  - we will keep names with ascii values\n",
    "     - we have 128 ascii characters indexed from 0 to 127"
   ]
  },
  {
   "cell_type": "code",
   "execution_count": 14,
   "metadata": {
    "collapsed": true
   },
   "outputs": [],
   "source": [
    "def is_english(name):\n",
    "    for letter in name:\n",
    "        nvalue = ord(letter)\n",
    "        if nvalue> 127:\n",
    "            return False\n",
    "    return True           "
   ]
  },
  {
   "cell_type": "markdown",
   "metadata": {},
   "source": [
    "This function works just fine. But its wont work with all the english names bacause some english apps may use special characters such as\n",
    "- `Docs To Go™ Free Office Suite` returns it as a non english name."
   ]
  },
  {
   "cell_type": "code",
   "execution_count": 15,
   "metadata": {
    "collapsed": false
   },
   "outputs": [
    {
     "name": "stdout",
     "output_type": "stream",
     "text": [
      "False\n",
      "False\n"
     ]
    }
   ],
   "source": [
    "print(is_english('Docs To Go™ Free Office Suite'))\n",
    "print(is_english('Instachat 😜'))"
   ]
  },
  {
   "cell_type": "markdown",
   "metadata": {},
   "source": [
    "- part 2\n",
    "    - If we're going to use the function we've created, we'll lose useful data since many English apps will be incorrectly labeled as non-English. To minimize the impact of data loss, we'll only remove an app if its name has more than three characters with corresponding numbers falling outside the ASCII range. This means all English apps with up to three emoji or other special characters will still be labeled as English. Our filter function is still not perfect, but it should be fairly effective."
   ]
  },
  {
   "cell_type": "code",
   "execution_count": 16,
   "metadata": {
    "collapsed": false
   },
   "outputs": [
    {
     "name": "stdout",
     "output_type": "stream",
     "text": [
      "True\n",
      "True\n"
     ]
    }
   ],
   "source": [
    "def is_english(name):\n",
    "    cnt = 0\n",
    "    for letter in name:\n",
    "        nvalue = ord(letter)\n",
    "        if nvalue> 127:\n",
    "            cnt +=1\n",
    "    if cnt>3:\n",
    "        return False\n",
    "    return True   \n",
    "\n",
    "print(is_english('Docs To Go™ Free Office Suite'))\n",
    "print(is_english('Instachat 😜'))"
   ]
  },
  {
   "cell_type": "markdown",
   "metadata": {},
   "source": [
    "# removing non english app from android"
   ]
  },
  {
   "cell_type": "code",
   "execution_count": 17,
   "metadata": {
    "collapsed": false
   },
   "outputs": [
    {
     "name": "stdout",
     "output_type": "stream",
     "text": [
      "['App', 'Category', 'Rating', 'Reviews', 'Size', 'Installs', 'Type', 'Price', 'Content Rating', 'Genres', 'Last Updated', 'Current Ver', 'Android Ver']\n"
     ]
    }
   ],
   "source": [
    "print(android_header)\n",
    "\n",
    "android_english=[]\n",
    "for row in android_clean:\n",
    "    name=row[0]\n",
    "    if is_english(name)==True:\n",
    "        android_english.append(row)\n"
   ]
  },
  {
   "cell_type": "code",
   "execution_count": 18,
   "metadata": {
    "collapsed": false
   },
   "outputs": [
    {
     "name": "stdout",
     "output_type": "stream",
     "text": [
      "['U Launcher Lite – FREE Live Cool Themes, Hide Apps', 'ART_AND_DESIGN', '4.7', '87510', '8.7M', '5,000,000+', 'Free', '0', 'Everyone', 'Art & Design', 'August 1, 2018', '1.2.4', '4.0.3 and up']\n",
      "\n",
      "\n",
      "['Sketch - Draw & Paint', 'ART_AND_DESIGN', '4.5', '215644', '25M', '50,000,000+', 'Free', '0', 'Teen', 'Art & Design', 'June 8, 2018', 'Varies with device', '4.2 and up']\n",
      "\n",
      "\n",
      "Number of rows: 9614\n",
      "Number of columns: 13\n",
      "\n",
      "\n"
     ]
    }
   ],
   "source": [
    "explore_data(android_english,1,3,True)"
   ]
  },
  {
   "cell_type": "markdown",
   "metadata": {},
   "source": [
    "# removing non english apps from ios "
   ]
  },
  {
   "cell_type": "code",
   "execution_count": 19,
   "metadata": {
    "collapsed": false
   },
   "outputs": [
    {
     "name": "stdout",
     "output_type": "stream",
     "text": [
      "7198\n",
      "['id', 'track_name', 'size_bytes', 'currency', 'price', 'rating_count_tot', 'rating_count_ver', 'user_rating', 'user_rating_ver', 'ver', 'cont_rating', 'prime_genre', 'sup_devices.num', 'ipadSc_urls.num', 'lang.num', 'vpp_lic']\n",
      "['389801252', 'Instagram', '113954816', 'USD', '0.0', '2161558', '1289', '4.5', '4.0', '10.23', '12+', 'Photo & Video', '37', '0', '29', '1']\n",
      "\n",
      "\n",
      "['529479190', 'Clash of Clans', '116476928', 'USD', '0.0', '2130805', '579', '4.5', '4.5', '9.24.12', '9+', 'Games', '38', '5', '18', '1']\n",
      "\n",
      "\n",
      "Number of rows: 6183\n",
      "Number of columns: 16\n",
      "\n",
      "\n"
     ]
    }
   ],
   "source": [
    "print(len(ios_file))\n",
    "ios_header = ios_file[0]\n",
    "ios_data = ios_file[1:]\n",
    "print(ios_header)\n",
    "\n",
    "ios_english=[]\n",
    "for row in ios_data:\n",
    "    name=row[1]\n",
    "    if is_english(name)==True:\n",
    "        ios_english.append(row)\n",
    "        \n",
    "explore_data(ios_english,1,3,True)"
   ]
  },
  {
   "cell_type": "markdown",
   "metadata": {},
   "source": [
    "We can see that we're left with `9614 Android apps` and `6183 iOS apps`."
   ]
  },
  {
   "cell_type": "code",
   "execution_count": 20,
   "metadata": {
    "collapsed": false
   },
   "outputs": [
    {
     "name": "stdout",
     "output_type": "stream",
     "text": [
      "['App', 'Category', 'Rating', 'Reviews', 'Size', 'Installs', 'Type', 'Price', 'Content Rating', 'Genres', 'Last Updated', 'Current Ver', 'Android Ver']\n"
     ]
    }
   ],
   "source": [
    "print(android_header)"
   ]
  },
  {
   "cell_type": "code",
   "execution_count": 21,
   "metadata": {
    "collapsed": false
   },
   "outputs": [
    {
     "name": "stdout",
     "output_type": "stream",
     "text": [
      "['Photo Editor & Candy Camera & Grid & ScrapBook', 'ART_AND_DESIGN', '4.1', '159', '19M', '10,000+', 'Free', '0', 'Everyone', 'Art & Design', 'January 7, 2018', '1.0.0', '4.0.3 and up']\n",
      "0\n"
     ]
    }
   ],
   "source": [
    "print(android_english[0])\n",
    "print(android_english[0][7])"
   ]
  },
  {
   "cell_type": "markdown",
   "metadata": {},
   "source": [
    "# Removing non free app\n",
    "- part 1\n",
    "    - android data has price feature in 8th colun (7th index) \n",
    "    - we will remove any app which has price > 0"
   ]
  },
  {
   "cell_type": "code",
   "execution_count": 22,
   "metadata": {
    "collapsed": false
   },
   "outputs": [
    {
     "name": "stdout",
     "output_type": "stream",
     "text": [
      "['U Launcher Lite – FREE Live Cool Themes, Hide Apps', 'ART_AND_DESIGN', '4.7', '87510', '8.7M', '5,000,000+', 'Free', '0', 'Everyone', 'Art & Design', 'August 1, 2018', '1.2.4', '4.0.3 and up']\n",
      "\n",
      "\n",
      "['Sketch - Draw & Paint', 'ART_AND_DESIGN', '4.5', '215644', '25M', '50,000,000+', 'Free', '0', 'Teen', 'Art & Design', 'June 8, 2018', 'Varies with device', '4.2 and up']\n",
      "\n",
      "\n",
      "Number of rows: 8864\n",
      "Number of columns: 13\n",
      "\n",
      "\n"
     ]
    }
   ],
   "source": [
    "free_android = []\n",
    "for row in android_english:\n",
    "    price = row[7]\n",
    "    if price=='0':\n",
    "        free_android.append(row)\n",
    "\n",
    "explore_data(free_android,1,3,True)"
   ]
  },
  {
   "cell_type": "code",
   "execution_count": 23,
   "metadata": {
    "collapsed": false
   },
   "outputs": [
    {
     "name": "stdout",
     "output_type": "stream",
     "text": [
      "['389801252', 'Instagram', '113954816', 'USD', '0.0', '2161558', '1289', '4.5', '4.0', '10.23', '12+', 'Photo & Video', '37', '0', '29', '1']\n",
      "\n",
      "\n",
      "['529479190', 'Clash of Clans', '116476928', 'USD', '0.0', '2130805', '579', '4.5', '4.5', '9.24.12', '9+', 'Games', '38', '5', '18', '1']\n",
      "\n",
      "\n",
      "Number of rows: 3222\n",
      "Number of columns: 16\n",
      "\n",
      "\n"
     ]
    }
   ],
   "source": [
    "free_ios = []\n",
    "for row in ios_english:\n",
    "    price=row[4]\n",
    "    if price=='0.0':\n",
    "        free_ios.append(row)\n",
    "        \n",
    "explore_data(free_ios,1,3,True)\n",
    "        "
   ]
  },
  {
   "cell_type": "markdown",
   "metadata": {},
   "source": [
    "We're left with `8864 Android apps` and `3222 iOS apps`, which should be enough for our analysis."
   ]
  },
  {
   "cell_type": "markdown",
   "metadata": {},
   "source": [
    "To minimize risks and overhead, our validation strategy for an app idea is comprised of three steps:\n",
    "\n",
    "    - Build a minimal Android version of the app, and add it to Google Play.\n",
    "    - If the app has a good response from users, we develop it further.\n",
    "    - If the app is profitable after six months, we build an iOS version of the app and add it to the App Store.\n",
    "\n",
    "Because our end goal is to add the app on both Google Play and the App Store, we need to find app profiles that are successful on both markets. For instance, a profile that works well for both markets might be a productivity app that makes use of gamification."
   ]
  },
  {
   "cell_type": "markdown",
   "metadata": {},
   "source": [
    "part 1\n",
    "    - finding genre freequencies on android"
   ]
  },
  {
   "cell_type": "code",
   "execution_count": 24,
   "metadata": {
    "collapsed": false
   },
   "outputs": [
    {
     "name": "stdout",
     "output_type": "stream",
     "text": [
      "Tools\n",
      "749\n"
     ]
    }
   ],
   "source": [
    "android_genre = {}\n",
    "\n",
    "for row in free_android:\n",
    "    genre = row[9]\n",
    "    if genre in android_genre:\n",
    "        android_genre[genre]+=1\n",
    "    else:\n",
    "        android_genre[genre]=1\n",
    "\n",
    "fav_android_genre=''\n",
    "max_android_freq=0\n",
    "\n",
    "for key,freq in android_genre.items():\n",
    "    if max_android_freq<freq:\n",
    "        max_android_freq=freq\n",
    "        fav_android_genre=key\n",
    "        \n",
    "print(fav_android_genre)\n",
    "print(max_android_freq)"
   ]
  },
  {
   "cell_type": "code",
   "execution_count": 25,
   "metadata": {
    "collapsed": false
   },
   "outputs": [
    {
     "name": "stdout",
     "output_type": "stream",
     "text": [
      "Games\n",
      "1874\n"
     ]
    }
   ],
   "source": [
    "ios_genre = {}\n",
    "\n",
    "for row in free_ios:\n",
    "    genre = row[11]\n",
    "    if genre in ios_genre:\n",
    "        ios_genre[genre]+=1\n",
    "    else:\n",
    "        ios_genre[genre]=1\n",
    "\n",
    "fav_ios_genre=''\n",
    "max_ios_freq=0\n",
    "\n",
    "for key,freq in ios_genre.items():\n",
    "    if max_ios_freq<freq:\n",
    "        max_ios_freq=freq\n",
    "        fav_ios_genre = key\n",
    "        \n",
    "print(fav_ios_genre)\n",
    "print(max_ios_freq)"
   ]
  },
  {
   "cell_type": "code",
   "execution_count": 26,
   "metadata": {
    "collapsed": false
   },
   "outputs": [
    {
     "name": "stdout",
     "output_type": "stream",
     "text": [
      "['App', 'Category', 'Rating', 'Reviews', 'Size', 'Installs', 'Type', 'Price', 'Content Rating', 'Genres', 'Last Updated', 'Current Ver', 'Android Ver'] \n",
      " ['id', 'track_name', 'size_bytes', 'currency', 'price', 'rating_count_tot', 'rating_count_ver', 'user_rating', 'user_rating_ver', 'ver', 'cont_rating', 'prime_genre', 'sup_devices.num', 'ipadSc_urls.num', 'lang.num', 'vpp_lic']\n"
     ]
    }
   ],
   "source": [
    "print(android_header,'\\n',ios_header)"
   ]
  },
  {
   "cell_type": "markdown",
   "metadata": {},
   "source": [
    "we'll need to build a frequency table for the prime_genre column of the App Store data set, and for the Genres and Category columns of the Google Play data set.\n",
    "\n",
    "We'll build two functions we can use to analyze the frequency tables:\n",
    "\n",
    "   - One function to generate frequency tables that show percentages\n",
    "   - Another function we can use to display the percentages in a descending order\n"
   ]
  },
  {
   "cell_type": "code",
   "execution_count": 27,
   "metadata": {
    "collapsed": false
   },
   "outputs": [],
   "source": [
    "def freq_table(dataset,index):\n",
    "    freq_dic = {}\n",
    "    for row in dataset:\n",
    "        feature = row[index]\n",
    "        if feature in freq_dic:\n",
    "            freq_dic[feature]+=1\n",
    "        else:\n",
    "            freq_dic[feature]=1\n",
    "    total = len(dataset)\n",
    "    freq_percentage =  {}\n",
    "    for key in freq_dic:\n",
    "        percentage = (freq_dic[key]/total)*100\n",
    "        freq_percentage[key] = percentage \n",
    "    \n",
    "    return freq_percentage\n",
    "\n",
    "       \n",
    "def display_table(dataset, index):\n",
    "    table =  freq_table(dataset,index)\n",
    "    table_display = []\n",
    "    for key in table:\n",
    "        key_val_as_tuple = (table[key],key)\n",
    "        table_display.append(key_val_as_tuple)\n",
    "    \n",
    "    table_sorted = sorted(table_display, reverse=True)\n",
    "    for entry in table_sorted:\n",
    "        print(entry[1],':',entry[0])\n"
   ]
  },
  {
   "cell_type": "markdown",
   "metadata": {},
   "source": [
    "# ios popular genre analysis\n",
    "\n",
    "getting percentage table for ios apps, feature = prime_genre , index = 11 (0 based indexing)"
   ]
  },
  {
   "cell_type": "code",
   "execution_count": 28,
   "metadata": {
    "collapsed": false
   },
   "outputs": [
    {
     "name": "stdout",
     "output_type": "stream",
     "text": [
      "Games : 58.16263190564867\n",
      "Entertainment : 7.883302296710118\n",
      "Photo & Video : 4.9658597144630665\n",
      "Education : 3.662321539416512\n",
      "Social Networking : 3.2898820608317814\n",
      "Shopping : 2.60707635009311\n",
      "Utilities : 2.5139664804469275\n",
      "Sports : 2.1415270018621975\n",
      "Music : 2.0484171322160147\n",
      "Health & Fitness : 2.0173805090006205\n",
      "Productivity : 1.7380509000620732\n",
      "Lifestyle : 1.5828677839851024\n",
      "News : 1.3345747982619491\n",
      "Travel : 1.2414649286157666\n",
      "Finance : 1.1173184357541899\n",
      "Weather : 0.8690254500310366\n",
      "Food & Drink : 0.8069522036002483\n",
      "Reference : 0.5586592178770949\n",
      "Business : 0.5276225946617008\n",
      "Book : 0.4345127250155183\n",
      "Navigation : 0.186219739292365\n",
      "Medical : 0.186219739292365\n",
      "Catalogs : 0.12414649286157665\n"
     ]
    }
   ],
   "source": [
    "display_table(free_ios,11)"
   ]
  },
  {
   "cell_type": "markdown",
   "metadata": {},
   "source": [
    "- We can see that more than 50% free english app are of Games. -\n",
    "- Entertainment has the second heighest , then photo and video \n",
    "- Educational apps has like 3.662321% apps and \n",
    "- Social networking apps has almost equal percentage as the socal networking\n",
    " \n",
    " In ios , we can conclide that entertainment related genres are more popular than tools. "
   ]
  },
  {
   "cell_type": "markdown",
   "metadata": {},
   "source": [
    "# android popular genre analysis\n",
    "part 1"
   ]
  },
  {
   "cell_type": "markdown",
   "metadata": {},
   "source": [
    "getting percentage table for android apps, feature = genre , index = 9 (o based indexing)"
   ]
  },
  {
   "cell_type": "code",
   "execution_count": 29,
   "metadata": {
    "collapsed": false
   },
   "outputs": [
    {
     "name": "stdout",
     "output_type": "stream",
     "text": [
      "Tools : 8.449909747292418\n",
      "Entertainment : 6.069494584837545\n",
      "Education : 5.347472924187725\n",
      "Business : 4.591606498194946\n",
      "Productivity : 3.892148014440433\n",
      "Lifestyle : 3.892148014440433\n",
      "Finance : 3.7003610108303246\n",
      "Medical : 3.531137184115524\n",
      "Sports : 3.463447653429603\n",
      "Personalization : 3.3167870036101084\n",
      "Communication : 3.2378158844765346\n",
      "Action : 3.1024368231046933\n",
      "Health & Fitness : 3.0798736462093865\n",
      "Photography : 2.944494584837545\n",
      "News & Magazines : 2.7978339350180503\n",
      "Social : 2.6624548736462095\n",
      "Travel & Local : 2.3240072202166067\n",
      "Shopping : 2.2450361010830324\n",
      "Books & Reference : 2.1435018050541514\n",
      "Simulation : 2.0419675090252705\n",
      "Dating : 1.861462093862816\n",
      "Arcade : 1.8501805054151623\n",
      "Video Players & Editors : 1.7712093862815883\n",
      "Casual : 1.7599277978339352\n",
      "Maps & Navigation : 1.3989169675090252\n",
      "Food & Drink : 1.2409747292418771\n",
      "Puzzle : 1.128158844765343\n",
      "Racing : 0.9927797833935018\n",
      "Role Playing : 0.9363718411552346\n",
      "Libraries & Demo : 0.9363718411552346\n",
      "Auto & Vehicles : 0.9250902527075812\n",
      "Strategy : 0.9138086642599278\n",
      "House & Home : 0.8235559566787004\n",
      "Weather : 0.8009927797833934\n",
      "Events : 0.7107400722021661\n",
      "Adventure : 0.6768953068592057\n",
      "Comics : 0.6092057761732852\n",
      "Beauty : 0.5979241877256317\n",
      "Art & Design : 0.5979241877256317\n",
      "Parenting : 0.4963898916967509\n",
      "Card : 0.45126353790613716\n",
      "Casino : 0.42870036101083037\n",
      "Trivia : 0.41741877256317694\n",
      "Educational;Education : 0.39485559566787\n",
      "Board : 0.3835740072202166\n",
      "Educational : 0.3722924187725632\n",
      "Education;Education : 0.33844765342960287\n",
      "Word : 0.2594765342960289\n",
      "Casual;Pretend Play : 0.236913357400722\n",
      "Music : 0.2030685920577617\n",
      "Racing;Action & Adventure : 0.16922382671480143\n",
      "Puzzle;Brain Games : 0.16922382671480143\n",
      "Entertainment;Music & Video : 0.16922382671480143\n",
      "Casual;Brain Games : 0.13537906137184114\n",
      "Casual;Action & Adventure : 0.13537906137184114\n",
      "Arcade;Action & Adventure : 0.12409747292418773\n",
      "Action;Action & Adventure : 0.10153429602888085\n",
      "Educational;Pretend Play : 0.09025270758122744\n",
      "Simulation;Action & Adventure : 0.078971119133574\n",
      "Parenting;Education : 0.078971119133574\n",
      "Entertainment;Brain Games : 0.078971119133574\n",
      "Board;Brain Games : 0.078971119133574\n",
      "Parenting;Music & Video : 0.06768953068592057\n",
      "Educational;Brain Games : 0.06768953068592057\n",
      "Casual;Creativity : 0.06768953068592057\n",
      "Art & Design;Creativity : 0.06768953068592057\n",
      "Education;Pretend Play : 0.056407942238267145\n",
      "Role Playing;Pretend Play : 0.04512635379061372\n",
      "Education;Creativity : 0.04512635379061372\n",
      "Role Playing;Action & Adventure : 0.033844765342960284\n",
      "Puzzle;Action & Adventure : 0.033844765342960284\n",
      "Entertainment;Creativity : 0.033844765342960284\n",
      "Entertainment;Action & Adventure : 0.033844765342960284\n",
      "Educational;Creativity : 0.033844765342960284\n",
      "Educational;Action & Adventure : 0.033844765342960284\n",
      "Education;Music & Video : 0.033844765342960284\n",
      "Education;Brain Games : 0.033844765342960284\n",
      "Education;Action & Adventure : 0.033844765342960284\n",
      "Adventure;Action & Adventure : 0.033844765342960284\n",
      "Video Players & Editors;Music & Video : 0.02256317689530686\n",
      "Sports;Action & Adventure : 0.02256317689530686\n",
      "Simulation;Pretend Play : 0.02256317689530686\n",
      "Puzzle;Creativity : 0.02256317689530686\n",
      "Music;Music & Video : 0.02256317689530686\n",
      "Entertainment;Pretend Play : 0.02256317689530686\n",
      "Casual;Education : 0.02256317689530686\n",
      "Board;Action & Adventure : 0.02256317689530686\n",
      "Video Players & Editors;Creativity : 0.01128158844765343\n",
      "Trivia;Education : 0.01128158844765343\n",
      "Travel & Local;Action & Adventure : 0.01128158844765343\n",
      "Tools;Education : 0.01128158844765343\n",
      "Strategy;Education : 0.01128158844765343\n",
      "Strategy;Creativity : 0.01128158844765343\n",
      "Strategy;Action & Adventure : 0.01128158844765343\n",
      "Simulation;Education : 0.01128158844765343\n",
      "Role Playing;Brain Games : 0.01128158844765343\n",
      "Racing;Pretend Play : 0.01128158844765343\n",
      "Puzzle;Education : 0.01128158844765343\n",
      "Parenting;Brain Games : 0.01128158844765343\n",
      "Music & Audio;Music & Video : 0.01128158844765343\n",
      "Lifestyle;Pretend Play : 0.01128158844765343\n",
      "Lifestyle;Education : 0.01128158844765343\n",
      "Health & Fitness;Education : 0.01128158844765343\n",
      "Health & Fitness;Action & Adventure : 0.01128158844765343\n",
      "Entertainment;Education : 0.01128158844765343\n",
      "Communication;Creativity : 0.01128158844765343\n",
      "Comics;Creativity : 0.01128158844765343\n",
      "Casual;Music & Video : 0.01128158844765343\n",
      "Card;Action & Adventure : 0.01128158844765343\n",
      "Books & Reference;Education : 0.01128158844765343\n",
      "Art & Design;Pretend Play : 0.01128158844765343\n",
      "Art & Design;Action & Adventure : 0.01128158844765343\n",
      "Arcade;Pretend Play : 0.01128158844765343\n",
      "Adventure;Education : 0.01128158844765343\n"
     ]
    }
   ],
   "source": [
    "display_table(free_android,9)"
   ]
  },
  {
   "cell_type": "markdown",
   "metadata": {},
   "source": [
    "Here genre has many types, we will get back to here later. "
   ]
  },
  {
   "cell_type": "markdown",
   "metadata": {},
   "source": [
    "Part 2\n",
    "    - getting percentage table for android apps,feature = category  , index = 1 (0 based indexing)"
   ]
  },
  {
   "cell_type": "code",
   "execution_count": 30,
   "metadata": {
    "collapsed": false
   },
   "outputs": [
    {
     "name": "stdout",
     "output_type": "stream",
     "text": [
      "FAMILY : 18.907942238267147\n",
      "GAME : 9.724729241877256\n",
      "TOOLS : 8.461191335740072\n",
      "BUSINESS : 4.591606498194946\n",
      "LIFESTYLE : 3.9034296028880866\n",
      "PRODUCTIVITY : 3.892148014440433\n",
      "FINANCE : 3.7003610108303246\n",
      "MEDICAL : 3.531137184115524\n",
      "SPORTS : 3.395758122743682\n",
      "PERSONALIZATION : 3.3167870036101084\n",
      "COMMUNICATION : 3.2378158844765346\n",
      "HEALTH_AND_FITNESS : 3.0798736462093865\n",
      "PHOTOGRAPHY : 2.944494584837545\n",
      "NEWS_AND_MAGAZINES : 2.7978339350180503\n",
      "SOCIAL : 2.6624548736462095\n",
      "TRAVEL_AND_LOCAL : 2.33528880866426\n",
      "SHOPPING : 2.2450361010830324\n",
      "BOOKS_AND_REFERENCE : 2.1435018050541514\n",
      "DATING : 1.861462093862816\n",
      "VIDEO_PLAYERS : 1.7937725631768955\n",
      "MAPS_AND_NAVIGATION : 1.3989169675090252\n",
      "FOOD_AND_DRINK : 1.2409747292418771\n",
      "EDUCATION : 1.1620036101083033\n",
      "ENTERTAINMENT : 0.9589350180505415\n",
      "LIBRARIES_AND_DEMO : 0.9363718411552346\n",
      "AUTO_AND_VEHICLES : 0.9250902527075812\n",
      "HOUSE_AND_HOME : 0.8235559566787004\n",
      "WEATHER : 0.8009927797833934\n",
      "EVENTS : 0.7107400722021661\n",
      "PARENTING : 0.6543321299638989\n",
      "ART_AND_DESIGN : 0.6430505415162455\n",
      "COMICS : 0.6204873646209386\n",
      "BEAUTY : 0.5979241877256317\n"
     ]
    }
   ],
   "source": [
    "display_table(free_android,1)"
   ]
  },
  {
   "cell_type": "markdown",
   "metadata": {},
   "source": [
    "we can see that `Family` is the most popular category here , followed by `Game` category. \n",
    " \n",
    " - If we go to the `google play` page, we will see that in `Family` category:\n",
    "   ![image](imagename.png \"Title\") \n",
    "   - there is mostly games and apps for kids so entertainment is also a popular genre among free english android app\n",
    "\n",
    "\n",
    "\n",
    " - the second popuar genre  is games \n",
    " - TOOLS : 8.461191335740072\n",
    " - BUSINESS : 4.591606498194946\n",
    " - LIFESTYLE : 3.9034296028880866\n",
    " - PRODUCTIVITY : 3.892148014440433\n",
    " - FINANCE : 3.7003610108303246\n",
    " - MEDICAL : 3.531137184115524\n",
    " - SPORTS : 3.395758122743682\n",
    " \n",
    "\n",
    "We can see that in android data, along with entertaining apps, tools and educational apps have good popularity\n"
   ]
  },
  {
   "cell_type": "markdown",
   "metadata": {},
   "source": [
    "# Analyzing the data (continue.)\n",
    "\n",
    "The frequency tables we analyzed on the previous screen showed us that the App Store is dominated by apps designed for fun, while Google Play shows a more balanced landscape of both practical and fun apps. Now, we'd like to get an idea about the kind of apps with the most users.\n",
    "\n",
    "# Calculate the average number of installs for each app genre\n",
    "One way to find out what genres are the most popular (have the most users) is to calculate the average number of installs for each app genre. For the Google Play data set, we can find this information in the Installs column, but this information is missing for the App Store data set. As a workaround, we'll take the total number of user ratings as a proxy, which we can find in the rating_count_tot app.\n",
    "\n",
    "# popular genre acourding to number of installs(ios)"
   ]
  },
  {
   "cell_type": "code",
   "execution_count": 44,
   "metadata": {
    "collapsed": false
   },
   "outputs": [
    {
     "name": "stdout",
     "output_type": "stream",
     "text": [
      "Navigation : 86090.33333333333\n",
      "Reference : 74942.11111111111\n",
      "Social Networking : 71548.34905660378\n",
      "Music : 57326.530303030304\n",
      "Weather : 52279.892857142855\n",
      "Book : 39758.5\n",
      "Food & Drink : 33333.92307692308\n",
      "Finance : 31467.944444444445\n",
      "Photo & Video : 28441.54375\n",
      "Travel : 28243.8\n",
      "Shopping : 26919.690476190477\n",
      "Health & Fitness : 23298.015384615384\n",
      "Sports : 23008.898550724636\n",
      "Games : 22788.6696905016\n",
      "News : 21248.023255813954\n",
      "Productivity : 21028.410714285714\n",
      "Utilities : 18684.456790123455\n",
      "Lifestyle : 16485.764705882353\n",
      "Entertainment : 14029.830708661417\n",
      "Business : 7491.117647058823\n",
      "Education : 7003.983050847458\n",
      "Catalogs : 4004.0\n",
      "Medical : 612.0\n"
     ]
    }
   ],
   "source": [
    "unique_ios_apps = freq_table(free_ios,-5)\n",
    "\n",
    "table_display = [] \n",
    "\n",
    "for genre in unique_ios_apps:\n",
    "    total=0\n",
    "    len_genre=0\n",
    "    for app in free_ios:\n",
    "        genre_app=app[-5]\n",
    "        if genre_app==genre:\n",
    "            user_rating = float(app[5])\n",
    "            total+=user_rating\n",
    "            len_genre+=1\n",
    "    avg_genre_rating = total/len_genre\n",
    "    \n",
    "    key_val_as_tuple = (avg_genre_rating,genre)\n",
    "    table_display.append(key_val_as_tuple)\n",
    "        \n",
    "table_sorted = sorted(table_display, reverse=True)\n",
    "for entry in table_sorted:\n",
    "    print(entry[1],':',entry[0])\n",
    "            \n"
   ]
  },
  {
   "cell_type": "markdown",
   "metadata": {},
   "source": [
    "On average, navigation apps have the highest number of user reviews, but this figure is heavily influenced by Waze and Google Maps, which have close to half a million user reviews together:"
   ]
  },
  {
   "cell_type": "code",
   "execution_count": 32,
   "metadata": {
    "collapsed": false
   },
   "outputs": [
    {
     "name": "stdout",
     "output_type": "stream",
     "text": [
      "Waze - GPS Navigation, Maps & Real-time Traffic : 345046\n",
      "Google Maps - Navigation & Transit : 154911\n",
      "Geocaching® : 12811\n",
      "CoPilot GPS – Car Navigation & Offline Maps : 3582\n",
      "ImmobilienScout24: Real Estate Search in Germany : 187\n",
      "Railway Route Search : 5\n"
     ]
    }
   ],
   "source": [
    "for app in free_ios:\n",
    "    if app[-5] == 'Navigation':\n",
    "        print(app[1], ':', app[5])\n",
    "        \n",
    "        "
   ]
  },
  {
   "cell_type": "code",
   "execution_count": 47,
   "metadata": {
    "collapsed": false
   },
   "outputs": [
    {
     "name": "stdout",
     "output_type": "stream",
     "text": [
      "Bible : 985920\n",
      "Dictionary.com Dictionary & Thesaurus : 200047\n",
      "Dictionary.com Dictionary & Thesaurus for iPad : 54175\n",
      "Google Translate : 26786\n",
      "Muslim Pro: Ramadan 2017 Prayer Times, Azan, Quran : 18418\n",
      "New Furniture Mods - Pocket Wiki & Game Tools for Minecraft PC Edition : 17588\n",
      "Merriam-Webster Dictionary : 16849\n",
      "Night Sky : 12122\n",
      "City Maps for Minecraft PE - The Best Maps for Minecraft Pocket Edition (MCPE) : 8535\n",
      "LUCKY BLOCK MOD ™ for Minecraft PC Edition - The Best Pocket Wiki & Mods Installer Tools : 4693\n",
      "GUNS MODS for Minecraft PC Edition - Mods Tools : 1497\n",
      "Guides for Pokémon GO - Pokemon GO News and Cheats : 826\n",
      "WWDC : 762\n",
      "Horror Maps for Minecraft PE - Download The Scariest Maps for Minecraft Pocket Edition (MCPE) Free : 718\n",
      "VPN Express : 14\n",
      "Real Bike Traffic Rider Virtual Reality Glasses : 8\n",
      "教えて!goo : 0\n",
      "Jishokun-Japanese English Dictionary & Translator : 0\n"
     ]
    }
   ],
   "source": [
    "for app in free_ios:\n",
    "    if app[-5] == 'Reference':\n",
    "        print(app[1], ':', app[5])"
   ]
  },
  {
   "cell_type": "markdown",
   "metadata": {},
   "source": [
    "In the previous screen, we came up with an app profile recommendation for the App Store based on the number of user ratings. We have data about the number of installs for the Google Play market, so we should be able to get a clearer picture about genre popularity. However, the install numbers don't seem precise enough — we can see that most values are open-ended (100+, 1,000+, 5,000+, etc.)"
   ]
  },
  {
   "cell_type": "markdown",
   "metadata": {},
   "source": [
    "# popular genre acourding to number of installs(android) "
   ]
  },
  {
   "cell_type": "code",
   "execution_count": 33,
   "metadata": {
    "collapsed": false
   },
   "outputs": [
    {
     "name": "stdout",
     "output_type": "stream",
     "text": [
      "1,000,000+ : 15.726534296028879\n",
      "100,000+ : 11.552346570397113\n",
      "10,000,000+ : 10.548285198555957\n",
      "10,000+ : 10.198555956678701\n",
      "1,000+ : 8.393501805054152\n",
      "100+ : 6.915613718411552\n",
      "5,000,000+ : 6.825361010830325\n",
      "500,000+ : 5.561823104693141\n",
      "50,000+ : 4.7721119133574\n",
      "5,000+ : 4.512635379061372\n",
      "10+ : 3.5424187725631766\n",
      "500+ : 3.2490974729241873\n",
      "50,000,000+ : 2.3014440433213\n",
      "100,000,000+ : 2.1322202166064983\n",
      "50+ : 1.917870036101083\n",
      "5+ : 0.78971119133574\n",
      "1+ : 0.5076714801444043\n",
      "500,000,000+ : 0.2707581227436823\n",
      "1,000,000,000+ : 0.22563176895306858\n",
      "0+ : 0.04512635379061372\n",
      "0 : 0.01128158844765343\n"
     ]
    }
   ],
   "source": [
    "display_table(free_android,5)"
   ]
  },
  {
   "cell_type": "markdown",
   "metadata": {},
   "source": [
    "\n",
    "\n",
    "One problem with this data is that is not precise. For instance, we don't know whether an app with 100,000+ installs has 100,000 installs, 200,000, or 350,000. However, we don't need very precise data for our purposes — we only want to get an idea which app genres attract the most users, and we don't need perfect precision with respect to the number of users.\n",
    "\n",
    "We're going to leave the numbers as they are, which means that we'll consider that an app with 100,000+ installs has 100,000 installs, and an app with 1,000,000+ installs has 1,000,000 installs, and so on.\n",
    "\n",
    "To perform computations, however, we'll need to convert each install number to float — this means that \n",
    "we need to remove the commas and the plus characters, otherwise the conversion will fail and raise an error. We'll do this directly in the loop below, where we also compute the average number of installs for each genre (category).\n"
   ]
  },
  {
   "cell_type": "code",
   "execution_count": 46,
   "metadata": {
    "collapsed": false,
    "scrolled": true
   },
   "outputs": [
    {
     "name": "stdout",
     "output_type": "stream",
     "text": [
      "COMMUNICATION : 38456119.167247385\n",
      "VIDEO_PLAYERS : 24727872.452830188\n",
      "SOCIAL : 23253652.127118643\n",
      "PHOTOGRAPHY : 17840110.40229885\n",
      "PRODUCTIVITY : 16787331.344927534\n",
      "GAME : 15588015.603248259\n",
      "TRAVEL_AND_LOCAL : 13984077.710144928\n",
      "ENTERTAINMENT : 11640705.88235294\n",
      "TOOLS : 10801391.298666667\n",
      "NEWS_AND_MAGAZINES : 9549178.467741935\n",
      "BOOKS_AND_REFERENCE : 8767811.894736841\n",
      "SHOPPING : 7036877.311557789\n",
      "PERSONALIZATION : 5201482.6122448975\n",
      "WEATHER : 5074486.197183099\n",
      "HEALTH_AND_FITNESS : 4188821.9853479853\n",
      "MAPS_AND_NAVIGATION : 4056941.7741935486\n",
      "FAMILY : 3695641.8198090694\n",
      "SPORTS : 3638640.1428571427\n",
      "ART_AND_DESIGN : 1986335.0877192982\n",
      "FOOD_AND_DRINK : 1924897.7363636363\n",
      "EDUCATION : 1833495.145631068\n",
      "BUSINESS : 1712290.1474201474\n",
      "LIFESTYLE : 1437816.2687861272\n",
      "FINANCE : 1387692.475609756\n",
      "HOUSE_AND_HOME : 1331540.5616438356\n",
      "DATING : 854028.8303030303\n",
      "COMICS : 817657.2727272727\n",
      "AUTO_AND_VEHICLES : 647317.8170731707\n",
      "LIBRARIES_AND_DEMO : 638503.734939759\n",
      "PARENTING : 542603.6206896552\n",
      "BEAUTY : 513151.88679245283\n",
      "EVENTS : 253542.22222222222\n",
      "MEDICAL : 120550.61980830671\n"
     ]
    }
   ],
   "source": [
    "unique_android_apps=freq_table(free_android,1)\n",
    "\n",
    "table_display = []\n",
    "for category in unique_android_apps:\n",
    "    total=0\n",
    "    len_category=0\n",
    "    for app in free_android:\n",
    "        category_app=app[1]\n",
    "        if category_app==category:\n",
    "            installs = app[5]\n",
    "            installs = installs.replace(',','')\n",
    "            installs = installs.replace('+','')\n",
    "            installs = float(installs)\n",
    "            total+=installs\n",
    "            len_category+=1\n",
    "    avg_category_rating = total/len_category\n",
    "    \n",
    "    key_val_as_tuple = (avg_category_rating,category)\n",
    "    table_display.append(key_val_as_tuple)\n",
    "        \n",
    "table_sorted = sorted(table_display, reverse=True)\n",
    "for entry in table_sorted:\n",
    "    print(entry[1],':',entry[0])"
   ]
  },
  {
   "cell_type": "markdown",
   "metadata": {},
   "source": [
    "On average, communication apps have the most installs: 38,456,119. This number is heavily skewed up by a few apps that have over one billion installs (WhatsApp, Facebook Messenger, Skype, Google Chrome, Gmail, and Hangouts), and a few others with over 100 and 500 million installs:\n"
   ]
  },
  {
   "cell_type": "code",
   "execution_count": 50,
   "metadata": {
    "collapsed": false
   },
   "outputs": [
    {
     "name": "stdout",
     "output_type": "stream",
     "text": [
      "WhatsApp Messenger : 1000000000.0\n",
      "Messenger for SMS : 10000000.0\n",
      "My Tele2 : 5000000.0\n",
      "imo beta free calls and text : 100000000.0\n",
      "Contacts : 50000000.0\n",
      "Call Free – Free Call : 5000000.0\n",
      "Web Browser & Explorer : 5000000.0\n",
      "Browser 4G : 10000000.0\n",
      "MegaFon Dashboard : 10000000.0\n",
      "ZenUI Dialer & Contacts : 10000000.0\n",
      "Cricket Visual Voicemail : 10000000.0\n",
      "TracFone My Account : 1000000.0\n",
      "Xperia Link™ : 10000000.0\n",
      "TouchPal Keyboard - Fun Emoji & Android Keyboard : 10000000.0\n",
      "Skype Lite - Free Video Call & Chat : 5000000.0\n",
      "My magenta : 1000000.0\n",
      "Android Messages : 100000000.0\n",
      "Google Duo - High Quality Video Calls : 500000000.0\n",
      "Seznam.cz : 1000000.0\n",
      "Antillean Gold Telegram (original version) : 100000.0\n",
      "AT&T Visual Voicemail : 10000000.0\n",
      "GMX Mail : 10000000.0\n",
      "Omlet Chat : 10000000.0\n",
      "My Vodacom SA : 5000000.0\n",
      "Microsoft Edge : 5000000.0\n",
      "Messenger – Text and Video Chat for Free : 1000000000.0\n",
      "imo free video calls and chat : 500000000.0\n",
      "Calls & Text by Mo+ : 5000000.0\n",
      "free video calls and chat : 50000000.0\n",
      "Skype - free IM & video calls : 1000000000.0\n",
      "Who : 100000000.0\n",
      "GO SMS Pro - Messenger, Free Themes, Emoji : 100000000.0\n",
      "Messaging+ SMS, MMS Free : 1000000.0\n",
      "chomp SMS : 10000000.0\n",
      "Glide - Video Chat Messenger : 10000000.0\n",
      "Text SMS : 10000000.0\n",
      "Talkray - Free Calls & Texts : 10000000.0\n",
      "LINE: Free Calls & Messages : 500000000.0\n",
      "GroupMe : 10000000.0\n",
      "mysms SMS Text Messaging Sync : 1000000.0\n",
      "2ndLine - Second Phone Number : 1000000.0\n",
      "Google Chrome: Fast & Secure : 1000000000.0\n",
      "Firefox Browser fast & private : 100000000.0\n",
      "Ninesky Browser : 1000000.0\n",
      "Dolphin Browser - Fast, Private & Adblock🐬 : 50000000.0\n",
      "UC Browser - Fast Download Private & Secure : 500000000.0\n",
      "Ghostery Privacy Browser : 1000000.0\n",
      "InBrowser - Incognito Browsing : 1000000.0\n",
      "Lightning Web Browser : 500000.0\n",
      "Web Browser : 500000.0\n",
      "Contacts+ : 10000000.0\n",
      "ExDialer - Dialer & Contacts : 10000000.0\n",
      "PHONE for Google Voice & GTalk : 1000000.0\n",
      "Safest Call Blocker : 1000000.0\n",
      "Full Screen Caller ID : 5000000.0\n",
      "Hiya - Caller ID & Block : 10000000.0\n",
      "Mr. Number-Block calls & spam : 10000000.0\n",
      "Should I Answer? : 1000000.0\n",
      "RocketDial Dialer & Contacts : 1000000.0\n",
      "CIA - Caller ID & Call Blocker : 5000000.0\n",
      "Calls Blacklist - Call Blocker : 10000000.0\n",
      "Call Control - Call Blocker : 5000000.0\n",
      "True Contact - Real Caller ID : 1000000.0\n",
      "Video Caller Id : 1000000.0\n",
      "Sync.ME – Caller ID & Block : 5000000.0\n",
      "Burner - Free Phone Number : 1000000.0\n",
      "Caller ID + : 1000000.0\n",
      "Gmail : 1000000000.0\n",
      "K-9 Mail : 5000000.0\n",
      "myMail – Email for Hotmail, Gmail and Outlook Mail : 10000000.0\n",
      "Email TypeApp - Mail App : 1000000.0\n",
      "All Email Providers : 1000000.0\n",
      "Newton Mail - Email App for Gmail, Outlook, IMAP : 1000000.0\n",
      "GO Notifier : 10000000.0\n",
      "Mail.Ru - Email App : 50000000.0\n",
      "Mail1Click - Secure Mail : 10000.0\n",
      "Daum Mail - Next Mail : 5000000.0\n",
      "mail.com mail : 1000000.0\n",
      "SolMail - All-in-One email app : 500000.0\n",
      "Hangouts : 1000000000.0\n",
      "Vonage Mobile® Call Video Text : 1000000.0\n",
      "JusTalk - Free Video Calls and Fun Video Chat : 5000000.0\n",
      "Azar : 50000000.0\n",
      "LokLok: Draw on a Lock Screen : 500000.0\n",
      "Discord - Chat for Gamers : 10000000.0\n",
      "Messenger Lite: Free Calls & Messages : 100000000.0\n",
      "AntennaPict β : 1000000.0\n",
      "Talkatone: Free Texts, Calls & Phone Number : 10000000.0\n",
      "Kik : 100000000.0\n",
      "K-@ Mail - Email App : 100000.0\n",
      "KakaoTalk: Free Calls & Text : 100000000.0\n",
      "K-9 Material (unofficial) : 5000.0\n",
      "M star Dialer : 100000.0\n",
      "Free WiFi Connect : 10000000.0\n",
      "m:go BiH : 10000.0\n",
      "N-Com Wizard : 50000.0\n",
      "Opera Mini - fast web browser : 100000000.0\n",
      "Opera Browser: Fast and Secure : 100000000.0\n",
      "Opera Mini browser beta : 10000000.0\n",
      "Psiphon Pro - The Internet Freedom VPN : 10000000.0\n",
      "ICQ — Video Calls & Chat Messenger : 10000000.0\n",
      "Telegram : 100000000.0\n",
      "AT&T Messages for Tablet : 1000000.0\n",
      "T-Mobile DIGITS : 100000.0\n",
      "Truecaller: Caller ID, SMS spam blocking & Dialer : 100000000.0\n",
      "Portable Wi-Fi hotspot : 10000000.0\n",
      "AT&T Call Protect : 5000000.0\n",
      "U - Webinars, Meetings & Messenger : 500000.0\n",
      "UC Browser Mini -Tiny Fast Private & Secure : 100000000.0\n",
      "/u/app : 10000.0\n",
      "[verify-U] VideoIdent : 10000.0\n",
      "Viber Messenger : 500000000.0\n",
      "WeChat : 100000000.0\n",
      "WhatsApp Business : 10000000.0\n",
      "WhatsCall Free Global Phone Call App & Cheap Calls : 10000000.0\n",
      "X Browser : 50000.0\n",
      "Yahoo Mail – Stay Organized : 100000000.0\n",
      "Free Adblocker Browser - Adblock & Popup Blocker : 10000000.0\n",
      "Adblock Browser for Android : 10000000.0\n",
      "CM Browser - Ad Blocker , Fast Download , Privacy : 50000000.0\n",
      "Adblock Plus for Samsung Internet - Browse safe. : 1000000.0\n",
      "Ad Blocker Turbo - Adblocker Browser : 10000.0\n",
      "Brave Browser: Fast AdBlocker : 5000000.0\n",
      "AG Contacts, Lite edition : 5000.0\n",
      "Oklahoma Ag Co-op Council : 10.0\n",
      "Bee'ah Employee App : 100.0\n",
      "tournaments and more.aj.2 : 100.0\n",
      "Aj.Petra : 100.0\n",
      "AK Phone : 5000.0\n",
      "PlacarTv Futebol Ao Vivo : 100000.0\n",
      "WiFi Access Point (hotspot) : 100000.0\n",
      "Access Point Names : 10000.0\n",
      "Puffin Web Browser : 10000000.0\n",
      "ClanHQ : 10000.0\n",
      "Ear Agent: Super Hearing : 5000000.0\n",
      "Google Voice : 10000000.0\n",
      "Google Allo : 10000000.0\n",
      "AU Call Blocker - Block Unwanted Calls Texts 2018 : 1000.0\n",
      "Baby Monitor AV : 100000.0\n",
      "AV Phone : 1000.0\n",
      "AW - free video calls and chat : 1000000.0\n",
      "Katalogen.ax : 100.0\n",
      "AZ Browser. Private & Download : 100000.0\n",
      "BA SALES : 1.0\n",
      "BD Data Plan (3G & 4G) : 500000.0\n",
      "BD Internet Packages (Updated) : 50000.0\n",
      "BD Dialer : 10000.0\n",
      "BD Live Call : 5000.0\n",
      "Best Browser BD social networking : 10.0\n",
      "Traffic signs BD : 500.0\n",
      "BF Browser by Betfilter - Stop Gambling Today! : 10000.0\n",
      "My BF App : 50000.0\n",
      "BH Mail : 1000.0\n",
      "Zalo – Video Call : 50000000.0\n",
      "BJ - Confidential : 10.0\n",
      "BK Chat : 1000.0\n",
      "Of the wall Arapaho bk : 5.0\n",
      "AC-BL : 50.0\n",
      "BBM - Free Calls & Messages : 100000000.0\n",
      "DMR BrandMeister Tool : 10000.0\n",
      "BBMoji - Your personalized BBM Stickers : 1000000.0\n",
      "BN MALLORCA Radio : 1000.0\n",
      "BQ Partners : 1000.0\n",
      "BS-Mobile : 50.0\n",
      "ATC Unico BS : 500.0\n",
      "BT One Voice mobile access : 5000.0\n",
      "BT Messenger : 50000.0\n",
      "BT One Phone Mobile App : 10000.0\n",
      "SW-100.tch by Callstel : 1000000.0\n",
      "BT MeetMe with Dolby Voice : 100000.0\n",
      "Bluetooth Auto Connect : 5000000.0\n",
      "AudioBT: BT audio GPS/SMS/Text : 50000.0\n",
      "BV : 100.0\n",
      "Feel Performer : 10000.0\n",
      "Tiny Call Confirm : 1000000.0\n",
      "CB Radio Chat - for friends! : 1000000.0\n",
      "CB On Mobile : 100000.0\n",
      "Virtual Walkie Talkie : 1000000.0\n",
      "Channel 19 : 100000.0\n",
      "Cb browser : 50.0\n",
      "CF Chat: Connecting Friends : 100.0\n",
      "retteMi.ch : 5000.0\n",
      "Chrome Dev : 5000000.0\n",
      "CJ Browser - Fast & Private : 100.0\n",
      "CJ DVD Rentals : 100.0\n",
      "CK Call NEW : 10.0\n",
      "CM Transfer - Share any files with friends nearby : 5000000.0\n",
      "mail.co.uk Mail : 5000.0\n",
      "ClanPlay: Community and Tools for Gamers : 1000000.0\n",
      "CQ-Mobile : 1000.0\n",
      "CQ-Alert : 500.0\n",
      "QRZ Assistant : 100000.0\n",
      "Pocket Prefix Plus : 10000.0\n",
      "Ham Radio Prefixes : 10000.0\n",
      "CS Customizer : 1000.0\n",
      "CS Browser | #1 & BEST BROWSER : 1000.0\n",
      "CS Browser Beta : 5000.0\n",
      "My Vodafone (GR) : 1000000.0\n",
      "IZ2UUF Morse Koch CW : 50000.0\n",
      "C W Browser : 100.0\n",
      "CW Bluetooth SPP : 100.0\n",
      "CW BLE Peripheral Simulator : 500.0\n",
      "Morse Code Reader : 100000.0\n",
      "Learn Morse Code - G0HYN Learn Morse : 5000.0\n",
      "Ring : 10000.0\n",
      "Hyundai CX Conference : 50.0\n",
      "Cy Messenger : 100.0\n",
      "Amadeus GR & CY : 100.0\n",
      "Hlášenírozhlasu.cz : 10.0\n",
      "SMS Sender - sluzba.cz : 1000.0\n",
      "WEB.DE Mail : 10000000.0\n",
      "Your Freedom VPN Client : 5000000.0\n",
      "CallApp: Caller ID, Blocker & Phone Call Recorder : 10000000.0\n",
      "Rádio Sol Nascente DF : 500.0\n",
      "DG Card : 100.0\n",
      "Whoscall - Caller ID & Block : 10000000.0\n",
      "DK Browser : 10.0\n",
      "cluster.dk : 1000.0\n",
      "DK TEL Dialer : 50.0\n",
      "DM for WhatsApp : 5000.0\n",
      "DM Talk New : 5000.0\n",
      "DM - The Offical Messaging App : 10.0\n",
      "DM Tracker : 1000.0\n",
      "Call Blocker & Blacklist : 1000.0\n",
      "ReadyOp DT : 1000.0\n",
      "DU Browser—Browse fast & fun : 10000000.0\n",
      "Caller ID & Call Block - DU Caller : 5000000.0\n",
      "BlueDV AMBE : 1000.0\n",
      "DW Contacts & Phone & Dialer : 1000000.0\n",
      "Deaf World DW : 10000.0\n",
      "Ham DX Cluster & Spots Finder : 5000.0\n",
      "Mircules DX Cluster Lite : 5000.0\n",
      "3G DZ Configuration : 50000.0\n",
      "chat dz : 100.0\n",
      "love sms good morning : 5000.0\n",
      "Goodbox - Mega App : 100000.0\n",
      "Call Blocker - Blacklist, SMS Blocker : 1000000.0\n",
      "[EF]ShoutBox : 100.0\n",
      "Eg Call : 10000.0\n",
      "ei : 10.0\n",
      "EJ messenger : 10.0\n",
      "Ek IRA : 10.0\n",
      "Orfox: Tor Browser for Android : 10000000.0\n",
      "EO Mumbai : 10.0\n",
      "EP RSS Reader : 100.0\n",
      "Voxer Walkie Talkie Messenger : 10000000.0\n",
      "ES-1 : 500.0\n",
      "Hangouts Dialer - Call Phones : 10000000.0\n",
      "EU Council : 1000.0\n",
      "Council Voting Calculator : 5000.0\n",
      "Have your say on Europe : 500.0\n",
      "Programi podrške EU : 100.0\n",
      "Inbox.eu : 10000.0\n",
      "Web Browser for Android : 1000000.0\n",
      "Everbridge : 100000.0\n",
      "Best Auto Call Recorder Free : 500.0\n",
      "EZ Wifi Notification : 10000.0\n",
      "Test Server SMS FA : 5.0\n",
      "Lite for Facebook Messenger : 1000000.0\n",
      "FC Browser - Focus Privacy Browser : 1000.0\n",
      "EHiN-FH conferenceapp : 100.0\n",
      "Carpooling FH Hagenberg : 100.0\n",
      "Wi-Fi Auto-connect : 1000000.0\n",
      "Talkie - Wi-Fi Calling, Chats, File Sharing : 500000.0\n",
      "WeFi - Free Fast WiFi Connect & Find Wi-Fi Map : 1000000.0\n",
      "Sat-Fi : 5000.0\n",
      "Portable Wi-Fi hotspot Free : 100000.0\n",
      "TownWiFi | Wi-Fi Everywhere : 500000.0\n",
      "Jazz Wi-Fi : 10000.0\n",
      "Sat-Fi Voice : 1000.0\n",
      "Free Wi-fi HotspoT : 50000.0\n",
      "FN Web Radio : 10.0\n",
      "FNH Payment Info : 10.0\n",
      "MARKET FO : 100.0\n",
      "FO OP St-Nazaire : 100.0\n",
      "FO SODEXO : 100.0\n",
      "FO RCBT : 100.0\n",
      "FO Interim : 100.0\n",
      "FO PSA Sept-Fons : 100.0\n",
      "FO AIRBUS TLSE : 1000.0\n",
      "FO STELIA Méaulte : 100.0\n",
      "FO AIRBUS Nantes : 100.0\n",
      "Firefox Focus: The privacy browser : 1000000.0\n",
      "FP Connect : 100.0\n",
      "FreedomPop Messaging Phone/SIM : 500000.0\n",
      "FP Live : 10.0\n",
      "HipChat - beta version : 50000.0\n"
     ]
    }
   ],
   "source": [
    "for app in free_android:\n",
    "    if app[1]=='COMMUNICATION':\n",
    "        installs = app[5]\n",
    "        installs = installs.replace(',','')\n",
    "        installs = installs.replace('+','')\n",
    "        installs = float(installs)\n",
    "        print(app[0],':',installs)\n",
    "        "
   ]
  },
  {
   "cell_type": "code",
   "execution_count": null,
   "metadata": {
    "collapsed": true
   },
   "outputs": [],
   "source": []
  }
 ],
 "metadata": {
  "kernelspec": {
   "display_name": "Python 3",
   "language": "python",
   "name": "python3"
  },
  "language_info": {
   "codemirror_mode": {
    "name": "ipython",
    "version": 3
   },
   "file_extension": ".py",
   "mimetype": "text/x-python",
   "name": "python",
   "nbconvert_exporter": "python",
   "pygments_lexer": "ipython3",
   "version": "3.4.3"
  }
 },
 "nbformat": 4,
 "nbformat_minor": 2
}
