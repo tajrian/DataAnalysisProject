{
 "cells": [
  {
   "cell_type": "markdown",
   "metadata": {},
   "source": [
    "# What apps are most liked by users\n",
    "\n",
    "- This goal of this project is to analyze what type of apps attract more users.\n",
    "\n",
    "We will use two datasets.\n",
    "1.[Google play app data](https://www.kaggle.com/lava18/google-play-store-apps) \n",
    "2.[Apple Mobile App Data](https://www.kaggle.com/ramamet4/app-store-apple-data-set-10k-apps)"
   ]
  },
  {
   "cell_type": "code",
   "execution_count": 1,
   "metadata": {
    "collapsed": false
   },
   "outputs": [],
   "source": [
    "from csv import reader\n",
    "\n",
    "def explore_data(dataset,start,end,rows_and_columns=False):\n",
    "    dataset_slice = dataset[start:end]\n",
    "    for row in dataset_slice:\n",
    "        print(row)\n",
    "        print('\\n')\n",
    "        \n",
    "    if rows_and_columns:\n",
    "        print('Number of rows:',len(dataset))\n",
    "        print('Number of columns:', len(dataset[0]))\n",
    "        print('\\n')\n",
    "    \n",
    "        \n",
    "def open_data(file_name):\n",
    "    file = open(file_name,encoding='utf8')\n",
    "    read_file = reader(file)\n",
    "    dataset = list(read_file)\n",
    "    return dataset\n",
    "    \n",
    "ios_file=open_data('AppleStore.csv')\n",
    "google_file=open_data('googleplaystore.csv')"
   ]
  },
  {
   "cell_type": "code",
   "execution_count": 2,
   "metadata": {
    "collapsed": false
   },
   "outputs": [
    {
     "name": "stdout",
     "output_type": "stream",
     "text": [
      "['Coloring book moana', 'ART_AND_DESIGN', '3.9', '967', '14M', '500,000+', 'Free', '0', 'Everyone', 'Art & Design;Pretend Play', 'January 15, 2018', '2.0.0', '4.0.3 and up']\n",
      "\n",
      "\n",
      "Number of rows: 10841\n",
      "Number of columns: 13\n",
      "\n",
      "\n"
     ]
    }
   ],
   "source": [
    "#explore_data(ios_file[1:],1,2,True)\n",
    "explore_data(google_file[1:],1,2,True)"
   ]
  },
  {
   "cell_type": "code",
   "execution_count": 3,
   "metadata": {
    "collapsed": false
   },
   "outputs": [
    {
     "name": "stdout",
     "output_type": "stream",
     "text": [
      "[['App', 'Category', 'Rating', 'Reviews', 'Size', 'Installs', 'Type', 'Price', 'Content Rating', 'Genres', 'Last Updated', 'Current Ver', 'Android Ver'], ['Photo Editor & Candy Camera & Grid & ScrapBook', 'ART_AND_DESIGN', '4.1', '159', '19M', '10,000+', 'Free', '0', 'Everyone', 'Art & Design', 'January 7, 2018', '1.0.0', '4.0.3 and up']]\n"
     ]
    }
   ],
   "source": [
    "print(google_file[0:2])"
   ]
  },
  {
   "cell_type": "code",
   "execution_count": 4,
   "metadata": {
    "collapsed": false
   },
   "outputs": [
    {
     "name": "stdout",
     "output_type": "stream",
     "text": [
      "['Life Made WI-Fi Touchscreen Photo Frame', '1.9', '19', '3.0M', '1,000+', 'Free', '0', 'Everyone', '', 'February 11, 2018', '1.0.19', '4.0 and up']\n",
      "12\n"
     ]
    }
   ],
   "source": [
    "print(google_file[10473])\n",
    "print(len(google_file[10473]))"
   ]
  },
  {
   "cell_type": "code",
   "execution_count": 5,
   "metadata": {
    "collapsed": false
   },
   "outputs": [
    {
     "name": "stdout",
     "output_type": "stream",
     "text": [
      "['osmino Wi-Fi: free WiFi', 'TOOLS', '4.2', '134203', '4.1M', '10,000,000+', 'Free', '0', 'Everyone', 'Tools', 'August 7, 2018', '6.06.14', '4.4 and up']\n",
      "13\n"
     ]
    }
   ],
   "source": [
    "del google_file[10473]\n",
    "print(google_file[10473])\n",
    "print(len(google_file[10473]))\n"
   ]
  },
  {
   "cell_type": "markdown",
   "metadata": {},
   "source": [
    "# found duplicate data from disscussion \n",
    "From the [disscussion](https://www.kaggle.com/lava18/google-play-store-apps/discussion) we can see that there may be duplicate datas. \n",
    "So I am going to make a function which finds out duplicate data entries. "
   ]
  },
  {
   "cell_type": "markdown",
   "metadata": {},
   "source": [
    "1.First I am going to find what kind of data has duplicate entries\n",
    "- i will try to find apps with dupliactes entries"
   ]
  },
  {
   "cell_type": "code",
   "execution_count": 6,
   "metadata": {
    "collapsed": false
   },
   "outputs": [
    {
     "name": "stdout",
     "output_type": "stream",
     "text": [
      "['App', 'Category', 'Rating', 'Reviews', 'Size', 'Installs', 'Type', 'Price', 'Content Rating', 'Genres', 'Last Updated', 'Current Ver', 'Android Ver']\n"
     ]
    }
   ],
   "source": [
    "print(google_file[0])"
   ]
  },
  {
   "cell_type": "code",
   "execution_count": 7,
   "metadata": {
    "collapsed": false
   },
   "outputs": [],
   "source": [
    "def find_duplicates(dataset):\n",
    "    duplicate = []\n",
    "    unique_app = []\n",
    "    for row in dataset[1:]:\n",
    "        if row[0] in unique_app:\n",
    "            duplicate.append(row[0])\n",
    "        else:\n",
    "            unique_app.append(row[0])\n",
    "    \n",
    "    print('Number of duplicate app: ',len(duplicate))\n",
    "    print('Example of duplicate app:', duplicate[:15])\n",
    "    return unique_app,duplicate\n",
    "            "
   ]
  },
  {
   "cell_type": "markdown",
   "metadata": {},
   "source": [
    "Here we will first get all the duplicates app by the `find_duplicates` function\n",
    "the function return alist the name of the app that has duplicate entries.\n",
    "\n",
    "-> `find dupliactes` has two parameters. dataset and header \n",
    "-> if your dataset doesnt have header row, pass `header=False` as parameter. \n",
    "->The default value is `True` as we assume that the dataset has header while being passed as arguement "
   ]
  },
  {
   "cell_type": "code",
   "execution_count": 9,
   "metadata": {
    "collapsed": false
   },
   "outputs": [
    {
     "name": "stdout",
     "output_type": "stream",
     "text": [
      "Number of duplicate app:  1181\n",
      "Example of duplicate app: ['Quick PDF Scanner + OCR FREE', 'Box', 'Google My Business', 'ZOOM Cloud Meetings', 'join.me - Simple Meetings', 'Box', 'Zenefits', 'Google Ads', 'Google My Business', 'Slack', 'FreshBooks Classic', 'Insightly CRM', 'QuickBooks Accounting: Invoicing & Expenses', 'HipChat - Chat Built for Teams', 'Xero Accounting Software']\n"
     ]
    }
   ],
   "source": [
    "android_unique_apps , android_duplicate = find_duplicates(google_file)"
   ]
  },
  {
   "cell_type": "markdown",
   "metadata": {},
   "source": [
    "-> the `find dupliactes` return two values. `unique apps` and apps that have `duplicate values` in the dataset"
   ]
  },
  {
   "cell_type": "markdown",
   "metadata": {
    "collapsed": true
   },
   "source": [
    "# Cleaning out duplicates\n",
    "\n",
    "`step 1`\n",
    "- listing the unique apps with their maximum ratings\n"
   ]
  },
  {
   "cell_type": "markdown",
   "metadata": {
    "collapsed": false
   },
   "source": [
    "- we can see here that the rating are in 3rd colomn\n",
    "- ['App', 'Category', 'Rating', 'Reviews', 'Size', 'Installs', 'Type', 'Price', 'Content Rating', 'Genres', 'Last Updated', 'Current Ver', 'Android Ver']"
   ]
  },
  {
   "cell_type": "markdown",
   "metadata": {},
   "source": [
    "- We have a list `android_unique_apps` containg the name of unique app . we will use this same technique to extract out the unique apps' maximum rating.\n",
    "\n"
   ]
  },
  {
   "cell_type": "code",
   "execution_count": 15,
   "metadata": {
    "collapsed": false
   },
   "outputs": [],
   "source": [
    "unique_app_max_rating={}\n",
    "for row in google_file[1:]:\n",
    "    name = row[0]\n",
    "    rating = float(row[3])\n",
    "    if name in unique_app_max_rating:\n",
    "        unique_app_max_rating[name]=max(unique_app_max_rating[name],rating)\n",
    "    else:\n",
    "        unique_app_max_rating[name]=rating\n",
    "                                                                        "
   ]
  },
  {
   "cell_type": "markdown",
   "metadata": {},
   "source": [
    "We have seen there is 1181 duplicate entries in the dataset. "
   ]
  },
  {
   "cell_type": "code",
   "execution_count": 20,
   "metadata": {
    "collapsed": false
   },
   "outputs": [
    {
     "name": "stdout",
     "output_type": "stream",
     "text": [
      "9659\n"
     ]
    }
   ],
   "source": [
    "print(len(google_file[1:])-1181)"
   ]
  },
  {
   "cell_type": "markdown",
   "metadata": {},
   "source": [
    "We can see that after deleting the duplicate entries , we have exact `9659` values. "
   ]
  },
  {
   "cell_type": "code",
   "execution_count": 17,
   "metadata": {
    "collapsed": false
   },
   "outputs": [
    {
     "name": "stdout",
     "output_type": "stream",
     "text": [
      "9659\n"
     ]
    }
   ],
   "source": [
    "print(len(unique_app_max_rating))"
   ]
  }
 ],
 "metadata": {
  "kernelspec": {
   "display_name": "Python 3",
   "language": "python",
   "name": "python3"
  },
  "language_info": {
   "codemirror_mode": {
    "name": "ipython",
    "version": 3
   },
   "file_extension": ".py",
   "mimetype": "text/x-python",
   "name": "python",
   "nbconvert_exporter": "python",
   "pygments_lexer": "ipython3",
   "version": "3.4.3"
  }
 },
 "nbformat": 4,
 "nbformat_minor": 2
}
